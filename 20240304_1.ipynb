{
  "nbformat": 4,
  "nbformat_minor": 0,
  "metadata": {
    "colab": {
      "provenance": []
    },
    "kernelspec": {
      "name": "python3",
      "display_name": "Python 3"
    },
    "language_info": {
      "name": "python"
    }
  },
  "cells": [
    {
      "cell_type": "code",
      "source": [
        "import math\n",
        "fahrenheit = 212\n",
        "celsius = (fahrenheit - 32) * 5/9\n",
        "print(f\"Fahrenheit {fahrenheit:.2f} ---> Celsius {celsius:.2f}\")"
      ],
      "metadata": {
        "colab": {
          "base_uri": "https://localhost:8080/"
        },
        "id": "sQ4q_TYdGBO_",
        "outputId": "d08c8cd4-a0e0-4544-e8eb-7eb299db3447"
      },
      "execution_count": null,
      "outputs": [
        {
          "output_type": "stream",
          "name": "stdout",
          "text": [
            "Fahrenheit 212.00 ---> Celsius 100.00\n"
          ]
        }
      ]
    },
    {
      "cell_type": "code",
      "source": [
        "import math\n",
        "r = 5.5\n",
        "s = 2 * r * math.sin(math.pi/5)\n",
        "area = (5 * s**2) / (4 * math.tan(math.pi / 5))\n",
        "print(f\"Area is {area:.2f}\")"
      ],
      "metadata": {
        "colab": {
          "base_uri": "https://localhost:8080/"
        },
        "id": "0QjRsQ07IaWd",
        "outputId": "ec949c36-ccba-42f9-ce86-ca03ad68ccde"
      },
      "execution_count": null,
      "outputs": [
        {
          "output_type": "stream",
          "name": "stdout",
          "text": [
            "Area is 71.92\n"
          ]
        }
      ]
    },
    {
      "cell_type": "code",
      "source": [
        "import math\n",
        "M = 10\n",
        "finalT = 100\n",
        "initialT = 12\n",
        "Q = M * (finalT - initialT) * 4184\n",
        "print(f\"Q = {Q:.2f}\")"
      ],
      "metadata": {
        "colab": {
          "base_uri": "https://localhost:8080/"
        },
        "id": "LNQx94yRO1Ur",
        "outputId": "9ce316c1-6d04-46e0-d0e9-008906619801"
      },
      "execution_count": null,
      "outputs": [
        {
          "output_type": "stream",
          "name": "stdout",
          "text": [
            "Q = 3681920.00\n"
          ]
        }
      ]
    },
    {
      "cell_type": "code",
      "source": [
        "import math\n",
        "r = 6.5\n",
        "height = 10\n",
        "area = math.pi * r ** 2\n",
        "volume = area * height\n",
        "print (f\"area: {area:.2f}, volume: {volume:.2f}\")"
      ],
      "metadata": {
        "id": "2t0-rUQdPZem",
        "colab": {
          "base_uri": "https://localhost:8080/"
        },
        "outputId": "ab205765-dc48-4d99-9860-570b4230a48f"
      },
      "execution_count": null,
      "outputs": [
        {
          "output_type": "stream",
          "name": "stdout",
          "text": [
            "area: 132.73, volume: 1327.32\n"
          ]
        }
      ]
    },
    {
      "cell_type": "code",
      "source": [
        "import math\n",
        "a = 4.3\n",
        "v = 70\n",
        "length = (v * v) / (2 * a)\n",
        "print (f\"Minimum runway length is {length:.2f} meters\")"
      ],
      "metadata": {
        "colab": {
          "base_uri": "https://localhost:8080/"
        },
        "id": "AwZwZLlmUQA_",
        "outputId": "c8d159b5-499f-4669-94be-def005b9d12e"
      },
      "execution_count": null,
      "outputs": [
        {
          "output_type": "stream",
          "name": "stdout",
          "text": [
            "Minimum runway length is 569.77 meters\n"
          ]
        }
      ]
    }
  ]
}