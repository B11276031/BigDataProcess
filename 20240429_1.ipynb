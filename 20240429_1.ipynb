{
  "nbformat": 4,
  "nbformat_minor": 0,
  "metadata": {
    "colab": {
      "provenance": []
    },
    "kernelspec": {
      "name": "python3",
      "display_name": "Python 3"
    },
    "language_info": {
      "name": "python"
    }
  },
  "cells": [
    {
      "cell_type": "code",
      "source": [
        "import random\n",
        "count = 1\n",
        "for i in range(1, 101):\n",
        "  if count % 10 != 0:\n",
        "    print('%5d'%(randNum), end = ' ')\n",
        "  else:\n",
        "    print('%5d'%(randNum))\n",
        "  count += 1"
      ],
      "metadata": {
        "colab": {
          "base_uri": "https://localhost:8080/"
        },
        "id": "rEmUi43daZTS",
        "outputId": "78e87e5e-8cd3-425a-ebec-6a7294e9fc30"
      },
      "execution_count": 39,
      "outputs": [
        {
          "output_type": "stream",
          "name": "stdout",
          "text": [
            "   38    38    38    38    38    38    38    38    38    38\n",
            "   38    38    38    38    38    38    38    38    38    38\n",
            "   38    38    38    38    38    38    38    38    38    38\n",
            "   38    38    38    38    38    38    38    38    38    38\n",
            "   38    38    38    38    38    38    38    38    38    38\n",
            "   38    38    38    38    38    38    38    38    38    38\n",
            "   38    38    38    38    38    38    38    38    38    38\n",
            "   38    38    38    38    38    38    38    38    38    38\n",
            "   38    38    38    38    38    38    38    38    38    38\n",
            "   38    38    38    38    38    38    38    38    38    38\n"
          ]
        }
      ]
    },
    {
      "cell_type": "code",
      "source": [
        "import random\n",
        "count = 1\n",
        "while count <= 12:\n",
        "  for i in range(1, 6):\n",
        "    randNum = random.randint(1, 49)\n",
        "    print('%3d'%(randNum), end = ' ')\n",
        "  print()\n",
        "  count += 1\n",
        "print('Over')"
      ],
      "metadata": {
        "colab": {
          "base_uri": "https://localhost:8080/"
        },
        "id": "_S0btSHJZ7KB",
        "outputId": "f3aa1c48-b7be-4fbe-9557-7cf69e05f0f1"
      },
      "execution_count": 28,
      "outputs": [
        {
          "output_type": "stream",
          "name": "stdout",
          "text": [
            " 32  35   1  42  18 \n",
            " 41  11  11   6  46 \n",
            " 22  33  47  31  11 \n",
            " 35  40  23  24  20 \n",
            " 22  43  27  43  42 \n",
            " 48  44  46  44  37 \n",
            "  4  25  45  45  23 \n",
            " 15  19  29   7  41 \n",
            "  1  45  20  17  31 \n",
            " 42  21  35  17   5 \n",
            " 31  19   6  33   9 \n",
            " 12   7  20  40  38 \n",
            "Over\n"
          ]
        }
      ]
    },
    {
      "cell_type": "code",
      "source": [
        "import random\n",
        "count = 1\n",
        "while count <= 10:\n",
        "  for i in range(1, 7):\n",
        "    randNum = random.randint(1, 49)\n",
        "    print('%3d'%(randNum), end = ' ')\n",
        "  print()\n",
        "  count += 1\n",
        "print('Over')"
      ],
      "metadata": {
        "colab": {
          "base_uri": "https://localhost:8080/"
        },
        "id": "pMeMm-JHYQvt",
        "outputId": "7fe941da-3d4e-4005-e951-6eebc20af14e"
      },
      "execution_count": 4,
      "outputs": [
        {
          "output_type": "stream",
          "name": "stdout",
          "text": [
            " 42   4   1  11  45  25 \n",
            " 41  32   4  27  17   8 \n",
            " 10  37  18  46   1  27 \n",
            " 43   9  49   5  39  23 \n",
            " 38  23  18  37  30  32 \n",
            " 23  16  35  48  39  21 \n",
            "  9  13  47  39   2  14 \n",
            "  2  15   3  12  41  48 \n",
            " 13  15   2  11  27   1 \n",
            " 29  34  32  44  32  43 \n",
            "Over\n"
          ]
        }
      ]
    },
    {
      "cell_type": "code",
      "source": [
        "import random\n",
        "again = 1\n",
        "while again == 1:\n",
        "  for i in range(1, 7):\n",
        "    randNum = random.randint(1, 49)\n",
        "    print('%3d'%(randNum), end = ' ')\n",
        "  print()\n",
        "  again = eval(input('yes:1 or no:0 ---->'))\n",
        "print('Over')"
      ],
      "metadata": {
        "colab": {
          "base_uri": "https://localhost:8080/"
        },
        "id": "0HDrNw59da8Q",
        "outputId": "3d21db9e-9969-4878-a5f4-f2421d86f26f"
      },
      "execution_count": 45,
      "outputs": [
        {
          "output_type": "stream",
          "name": "stdout",
          "text": [
            " 45  21  42  19   8  13 \n",
            "yes:1 or no:0 ---->1\n",
            " 12  46  42  30  17  23 \n",
            "yes:1 or no:0 ---->0\n",
            "Over\n"
          ]
        }
      ]
    }
  ]
}