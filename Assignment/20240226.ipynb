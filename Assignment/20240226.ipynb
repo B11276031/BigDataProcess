{
  "nbformat": 4,
  "nbformat_minor": 0,
  "metadata": {
    "colab": {
      "provenance": []
    },
    "kernelspec": {
      "name": "python3",
      "display_name": "Python 3"
    },
    "language_info": {
      "name": "python"
    }
  },
  "cells": [
    {
      "cell_type": "code",
      "execution_count": null,
      "metadata": {
        "colab": {
          "base_uri": "https://localhost:8080/"
        },
        "id": "jUqi7zLJAh4o",
        "outputId": "cdca802d-4a74-437a-b0f8-00fac64e76f9"
      },
      "outputs": [
        {
          "output_type": "stream",
          "name": "stdout",
          "text": [
            "  124\n",
            "    123.46\n",
            "Python    \n",
            "\n",
            "|  124|\n",
            "|    123.46|\n",
            "|    Python|\n",
            "|Python    |\n",
            "  124\n",
            "   7c\n",
            "  174\n",
            "1111100\n",
            "  124     123.46     Python\n"
          ]
        }
      ],
      "source": [
        "a = 124\n",
        "b = 123.456\n",
        "c = 'Python'\n",
        "\n",
        "#print(a)\n",
        "#print(b)\n",
        "#print(c)\n",
        "\n",
        "#print('a=',a)\n",
        "#print('b=',b)\n",
        "#print('c=',c)\n",
        "\n",
        "#print(a, end = ' ')\n",
        "#print(b, end = ' ')\n",
        "#print(c)\n",
        "\n",
        "print(format(a,'5d'))\n",
        "print(format(b,'10.2f'))\n",
        "print(format(c,'10s'))\n",
        "print()\n",
        "\n",
        "#print(format(a,'<5d'))\n",
        "#print(format(b,'>10.2f'))\n",
        "#print(format(c,'>10s'))\n",
        "\n",
        "print('|%5d|'%a)\n",
        "print('|%10.2f|'%b)\n",
        "print('|%10s|'%c)\n",
        "print('|%-10s|'%c)\n",
        "\n",
        "print(format(a,'5d'))\n",
        "print(format(a,'5x'))\n",
        "print(format(a,'5o'))\n",
        "print(format(a,'5b'))\n",
        "\n"
      ]
    },
    {
      "cell_type": "code",
      "source": [
        "x=123\n",
        "y=123456\n",
        "z=12\n",
        "\n",
        "print(format('%8d'%x),format('%8d'%y),format('%8d'%z))\n",
        "print('%8d %8d %8d' %(x,y,z))"
      ],
      "metadata": {
        "colab": {
          "base_uri": "https://localhost:8080/"
        },
        "id": "81hBhmelMCOM",
        "outputId": "a4ca64e9-a05f-47fa-9d88-86a108fda213"
      },
      "execution_count": null,
      "outputs": [
        {
          "output_type": "stream",
          "name": "stdout",
          "text": [
            "     123   123456       12\n",
            "     123   123456       12\n"
          ]
        }
      ]
    }
  ]
}