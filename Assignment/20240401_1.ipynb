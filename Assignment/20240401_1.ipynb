{
  "nbformat": 4,
  "nbformat_minor": 0,
  "metadata": {
    "colab": {
      "provenance": []
    },
    "kernelspec": {
      "name": "python3",
      "display_name": "Python 3"
    },
    "language_info": {
      "name": "python"
    }
  },
  "cells": [
    {
      "cell_type": "code",
      "execution_count": null,
      "metadata": {
        "colab": {
          "base_uri": "https://localhost:8080/"
        },
        "id": "Z-zMfqZLFht6",
        "outputId": "28e8b9b1-dbfd-4f1f-ccd8-2f6720589577"
      },
      "outputs": [
        {
          "output_type": "stream",
          "name": "stdout",
          "text": [
            "1 46 61 3 77 68 54 18 95 12 42 56 34 23 65 35 66 56 65 34 75 44 58 11 80 32 33 45 72 32 55 30 11 57 84 16 40 89 84 44 89 88 44 10 69 35 12 45 89 37 20 23 89 16 97 16 21 50 44 46 6 80 59 81 41 44 17 41 53 20 1 92 9 14 14 74 74 22 37 68 96 91 28 12 73 25 75 85 70 3 76 22 11 26 62 90 56 33 58 12 \n",
            "times = 28, times 5 = 22 , times7 = 15\n",
            "others = 48\n"
          ]
        }
      ],
      "source": [
        "#Version 1\n",
        "import random\n",
        "times3 = 0\n",
        "times5 = 0\n",
        "times7 = 0\n",
        "others = 0\n",
        "for i in range(1, 101):\n",
        "  flag = False\n",
        "  randNum = random.randint(1, 100)\n",
        "  print(randNum, end = ' ')\n",
        "  if randNum % 3 == 0:\n",
        "    times3 += 1\n",
        "    flag = True\n",
        "  if randNum % 5 == 0:\n",
        "    times5 += 1\n",
        "    flag = True\n",
        "  if randNum % 7 == 0:\n",
        "    times7 +=1\n",
        "    flag = True\n",
        "  if flag == False:\n",
        "    others += 1\n",
        "print('\\ntimes = %d, times 5 = %d , times7 = %d'%(times3, times5, times7))\n",
        "print('others = %d'%(others))"
      ]
    },
    {
      "cell_type": "code",
      "source": [
        "import random\n",
        "count=1\n",
        "for i in range(1, 101):\n",
        "  randNum=random.randint(1,100)\n",
        "  if count%10!=0:\n",
        "    print('%5d'%(randNum),end = ' ')\n",
        "  else:\n",
        "    print('%5d'%(randNum))\n",
        "  count+=1"
      ],
      "metadata": {
        "colab": {
          "base_uri": "https://localhost:8080/"
        },
        "id": "Wa20QgskUkof",
        "outputId": "b8ef5ce5-e306-4b35-9983-d674f93f40c6"
      },
      "execution_count": null,
      "outputs": [
        {
          "output_type": "stream",
          "name": "stdout",
          "text": [
            "   31    22    15    55    22    38    66     7    37    72\n",
            "   51    21    20    42    68    19     2    99    83    48\n",
            "   11    79    27    98    56    37    79    48    24    13\n",
            "   58    10     3    74    79    86    82    40    35    62\n",
            "   29    12    87    72    47    27    96    55    39    62\n",
            "   59     9    65    72    98    15    73    54    84    95\n",
            "   38    34    48    13    49    42    96     1    56    43\n",
            "   63    13    24    74    16     5    66    18     5    93\n",
            "   53    55    93    54    28    31     4    80    93    69\n",
            "   14    79    54    12    83    93    26    87    65    97\n"
          ]
        }
      ]
    }
  ]
}