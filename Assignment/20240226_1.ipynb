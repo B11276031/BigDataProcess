{
  "nbformat": 4,
  "nbformat_minor": 0,
  "metadata": {
    "colab": {
      "provenance": []
    },
    "kernelspec": {
      "name": "python3",
      "display_name": "Python 3"
    },
    "language_info": {
      "name": "python"
    }
  },
  "cells": [
    {
      "cell_type": "code",
      "execution_count": null,
      "metadata": {
        "colab": {
          "base_uri": "https://localhost:8080/"
        },
        "id": "104M2gFgKgiM",
        "outputId": "357ee8dc-1041-4d95-dc93-4c687421a1e7"
      },
      "outputs": [
        {
          "output_type": "stream",
          "name": "stdout",
          "text": [
            "  123\n"
          ]
        }
      ],
      "source": [
        "x=123\n",
        "y=123456\n",
        "z=12\n",
        "\n",
        "print(format('%5d'%x))"
      ]
    }
  ]
}