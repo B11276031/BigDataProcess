{
  "nbformat": 4,
  "nbformat_minor": 0,
  "metadata": {
    "colab": {
      "provenance": []
    },
    "kernelspec": {
      "name": "python3",
      "display_name": "Python 3"
    },
    "language_info": {
      "name": "python"
    }
  },
  "cells": [
    {
      "cell_type": "code",
      "execution_count": null,
      "metadata": {
        "colab": {
          "base_uri": "https://localhost:8080/"
        },
        "id": "ibnh-g17Vo7k",
        "outputId": "23620779-9d10-427b-df6e-42fb45785d7a"
      },
      "outputs": [
        {
          "output_type": "stream",
          "name": "stdout",
          "text": [
            "Python\"葉毅傑\n",
            "Python'葉毅傑\n",
            "Python\\葉毅傑\n",
            "Python\t葉毅傑\n",
            "Python\n",
            "葉毅傑\n"
          ]
        }
      ],
      "source": [
        "print('Python\\\"葉毅傑')\n",
        "print('Python\\'葉毅傑')\n",
        "print('Python\\\\葉毅傑')\n",
        "print('Python\\t葉毅傑')\n",
        "print('Python\\n葉毅傑')"
      ]
    },
    {
      "cell_type": "code",
      "source": [
        "s = input()\n",
        "print(s)\n",
        "a = input('Enter a number:')\n",
        "print(a)"
      ],
      "metadata": {
        "colab": {
          "base_uri": "https://localhost:8080/"
        },
        "id": "dexkNk0WW025",
        "outputId": "62017cc5-b36e-4793-e6ea-3119c33d618b"
      },
      "execution_count": null,
      "outputs": [
        {
          "output_type": "stream",
          "name": "stdout",
          "text": [
            "葉毅傑\n",
            "葉毅傑\n",
            "Enter a number:666\n",
            "666\n"
          ]
        }
      ]
    },
    {
      "cell_type": "code",
      "source": [
        "a = eval(input('Enter a number:'))\n",
        "a = a + 100\n",
        "print(a)"
      ],
      "metadata": {
        "colab": {
          "base_uri": "https://localhost:8080/"
        },
        "id": "nBeYbJDRY7uj",
        "outputId": "395d4c39-2b2e-422d-e3b1-6928400dc4a8"
      },
      "execution_count": null,
      "outputs": [
        {
          "output_type": "stream",
          "name": "stdout",
          "text": [
            "Enter a number:100\n",
            "200\n"
          ]
        }
      ]
    },
    {
      "cell_type": "code",
      "source": [
        "a = int(input(\"Enter a number:\"))\n",
        "a = a + 10\n",
        "print(a)"
      ],
      "metadata": {
        "colab": {
          "base_uri": "https://localhost:8080/"
        },
        "id": "NkS4SvXqZsr7",
        "outputId": "6d774067-20be-4ba6-e8cb-b601205105ee"
      },
      "execution_count": null,
      "outputs": [
        {
          "output_type": "stream",
          "name": "stdout",
          "text": [
            "Enter a number:100\n",
            "110\n"
          ]
        }
      ]
    },
    {
      "cell_type": "code",
      "source": [
        "a, b = eval(input('Enter two numbers:'))\n",
        "print('a = %d, b = %d'%(a, b))"
      ],
      "metadata": {
        "colab": {
          "base_uri": "https://localhost:8080/"
        },
        "id": "b0tIPIx5aIpE",
        "outputId": "08f99742-5db9-4d00-a170-2a603e971ece"
      },
      "execution_count": null,
      "outputs": [
        {
          "output_type": "stream",
          "name": "stdout",
          "text": [
            "Enter two numbers:66,88\n",
            "a = 66, b = 88\n"
          ]
        }
      ]
    },
    {
      "cell_type": "code",
      "source": [
        "a = 100\n",
        "b = a / 3\n",
        "print(b)\n",
        "c = a // 3\n",
        "print(c)\n",
        "f = a % 3\n",
        "print(f)\n",
        "d = a ** 2\n",
        "print(d)\n",
        "e = a ** 0.5\n",
        "print(e)\n",
        "a = a + 100\n",
        "print(a)"
      ],
      "metadata": {
        "colab": {
          "base_uri": "https://localhost:8080/"
        },
        "id": "yyfuJDLpdtYO",
        "outputId": "a9531f01-33b2-4926-d4e0-755762f77f56"
      },
      "execution_count": null,
      "outputs": [
        {
          "output_type": "stream",
          "name": "stdout",
          "text": [
            "33.333333333333336\n",
            "33\n",
            "1\n",
            "10000\n",
            "10.0\n",
            "200\n"
          ]
        }
      ]
    },
    {
      "cell_type": "code",
      "source": [
        "r = 666\n",
        "area = 3.14159 * r ** 2\n",
        "perimeter = 2 * 3.14159 * r\n",
        "print(area)\n",
        "print(perimeter)"
      ],
      "metadata": {
        "colab": {
          "base_uri": "https://localhost:8080/"
        },
        "id": "8KUytZgteWcH",
        "outputId": "13f94cc5-23b3-460e-aa2d-2c8368079045"
      },
      "execution_count": null,
      "outputs": [
        {
          "output_type": "stream",
          "name": "stdout",
          "text": [
            "1393471.0940399999\n",
            "4184.59788\n"
          ]
        }
      ]
    },
    {
      "cell_type": "code",
      "source": [
        "import math\n",
        "math.pi, math.e\n",
        "r = 5\n",
        "print(math.pi, math.e)\n",
        "area = math.pi * r ** 2\n",
        "perimeter = 2 * math.pi * r\n",
        "print(area,perimeter)"
      ],
      "metadata": {
        "colab": {
          "base_uri": "https://localhost:8080/"
        },
        "id": "a4ntbRsefVxo",
        "outputId": "a2fcf006-a57b-4ae7-c840-da404f434841"
      },
      "execution_count": null,
      "outputs": [
        {
          "output_type": "stream",
          "name": "stdout",
          "text": [
            "3.141592653589793 2.718281828459045\n",
            "78.53981633974483 31.41592653589793\n"
          ]
        }
      ]
    },
    {
      "cell_type": "code",
      "source": [
        "import math\n",
        "r = 666\n",
        "area = math.pi * r ** 2\n",
        "perimeter = 2 * math.pi * r\n",
        "print(area)\n",
        "print(perimeter)"
      ],
      "metadata": {
        "colab": {
          "base_uri": "https://localhost:8080/"
        },
        "id": "68XFuF1rgH1T",
        "outputId": "5596d2d2-d407-4c9d-a77e-9067bb68a6b5"
      },
      "execution_count": null,
      "outputs": [
        {
          "output_type": "stream",
          "name": "stdout",
          "text": [
            "1393472.2710556742\n",
            "4184.601414581604\n"
          ]
        }
      ]
    },
    {
      "cell_type": "code",
      "source": [
        "import math\n",
        "a = math.sin(0)\n",
        "b = math.sin(math.pi/2)\n",
        "c = math.cos(math.pi/2)\n",
        "d = math.cos(0)\n",
        "e = math.tan(0)\n",
        "f = math.tan(math.pi/2)\n",
        "print(a,b,c,d,e,f)"
      ],
      "metadata": {
        "colab": {
          "base_uri": "https://localhost:8080/"
        },
        "id": "bjWGaJ9DgrJT",
        "outputId": "a3fa3f99-424f-44fa-973a-e886871a6db0"
      },
      "execution_count": null,
      "outputs": [
        {
          "output_type": "stream",
          "name": "stdout",
          "text": [
            "0.0 1.0 6.123233995736766e-17 1.0 0.0 1.633123935319537e+16\n"
          ]
        }
      ]
    },
    {
      "cell_type": "code",
      "source": [
        "import math\n",
        "s = 6.5\n",
        "area = (5 * s**2) / (4 * math.tan(math.pi/5))\n",
        "print(area)"
      ],
      "metadata": {
        "colab": {
          "base_uri": "https://localhost:8080/"
        },
        "id": "tVSTVM0EhXd7",
        "outputId": "3c0c1edd-fe0f-413c-ffa3-0e3cc331bc44"
      },
      "execution_count": null,
      "outputs": [
        {
          "output_type": "stream",
          "name": "stdout",
          "text": [
            "72.69017017488385\n"
          ]
        }
      ]
    },
    {
      "cell_type": "code",
      "source": [
        "a = abs(-100)\n",
        "b = max(22, 33, 11, 88, 99, 66)\n",
        "c = min(22, 33, 11, 88, 99, 66)\n",
        "d = pow(2, 10)\n",
        "e = round(5.6)\n",
        "f = round(5.2)\n",
        "g = round(4.6)\n",
        "h = round(4.5)\n",
        "i = round(123.456, 2)\n",
        "j = round(123.456, 1)\n",
        "print(a,b,c,d,e,f,g,h,i,j)"
      ],
      "metadata": {
        "colab": {
          "base_uri": "https://localhost:8080/"
        },
        "id": "mMBpDlqHhohd",
        "outputId": "1236e59e-cc9c-4c49-97fa-55a73be63f21"
      },
      "execution_count": null,
      "outputs": [
        {
          "output_type": "stream",
          "name": "stdout",
          "text": [
            "100 99 11 1024 6 5 5 4 123.46 123.5\n"
          ]
        }
      ]
    }
  ]
}