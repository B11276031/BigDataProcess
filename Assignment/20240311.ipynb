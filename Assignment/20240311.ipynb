{
  "nbformat": 4,
  "nbformat_minor": 0,
  "metadata": {
    "colab": {
      "provenance": []
    },
    "kernelspec": {
      "name": "python3",
      "display_name": "Python 3"
    },
    "language_info": {
      "name": "python"
    }
  },
  "cells": [
    {
      "cell_type": "code",
      "execution_count": null,
      "metadata": {
        "id": "WnVHUUo3XWG6",
        "colab": {
          "base_uri": "https://localhost:8080/"
        },
        "outputId": "5aa5e1cd-7364-47f8-b77c-0d26de416567"
      },
      "outputs": [
        {
          "output_type": "stream",
          "name": "stdout",
          "text": [
            "Enter a number: 100\n",
            "100 is greater than 0\n",
            "Over\n"
          ]
        }
      ],
      "source": [
        "a = eval(input('Enter a number: '))\n",
        "if a > 0:\n",
        "  print(a, 'is greater than 0')\n",
        "else:\n",
        "  print(a, 'is less than 0')\n",
        "print('Over')"
      ]
    },
    {
      "cell_type": "code",
      "source": [
        "a, b, c = eval(input('Enter a, b, c,: '))\n",
        "d = b*b - 4*a*c\n",
        "\n",
        "if d > 0:\n",
        "  print('Has two different solutions')\n",
        "elif d == 0:\n",
        "  print('Has one solution')\n",
        "else:\n",
        "  print('No solution')\n",
        "print('Over')"
      ],
      "metadata": {
        "colab": {
          "base_uri": "https://localhost:8080/"
        },
        "id": "cIVLjk2SoHMQ",
        "outputId": "7a01325f-0583-4f9e-e9b6-d12a24980be6"
      },
      "execution_count": null,
      "outputs": [
        {
          "output_type": "stream",
          "name": "stdout",
          "text": [
            "Enter a, b, c,: 15,20,25\n",
            "No solution\n",
            "Over\n"
          ]
        }
      ]
    },
    {
      "cell_type": "code",
      "source": [
        "height = eval(input('Enter height in centimeters: '))\n",
        "weight = eval(input('Enter weight in kilograms: '))\n",
        "\n",
        "bmi = weight / (height/100) ** 2\n",
        "print('Your BMI is %6.2f'%(bmi))\n",
        "\n",
        "if bmi < 18.5:\n",
        "  print('Underweight')\n",
        "elif bmi < 25.0:\n",
        "  print('Normal')\n",
        "elif bmi < 30:\n",
        "  print('Overweight')\n",
        "else:\n",
        "  print('Obese')\n",
        "print('Over')"
      ],
      "metadata": {
        "colab": {
          "base_uri": "https://localhost:8080/"
        },
        "id": "BVCWjqGMojkx",
        "outputId": "b4a39558-9ded-4074-b80d-959e7a8eaf63"
      },
      "execution_count": null,
      "outputs": [
        {
          "output_type": "stream",
          "name": "stdout",
          "text": [
            "Enter height in centimeters: 175\n",
            "Enter weight in kilograms: 62\n",
            "Your BMI is  20.24\n",
            "Normal\n",
            "Over\n"
          ]
        }
      ]
    },
    {
      "cell_type": "code",
      "source": [
        "num = eval(input('Enter a number: '))\n",
        "if (85 <= num) and (num<= 95):\n",
        "  print ('%d is in between 85 and 95'%(num))\n",
        "else:\n",
        "  print('%d is not in between 85 and 95'%(num))\n",
        "print('Over')"
      ],
      "metadata": {
        "colab": {
          "base_uri": "https://localhost:8080/"
        },
        "id": "Rfvka6gmB0eV",
        "outputId": "e2cdfa65-a8bf-4f14-e73b-56e96ddcf03b"
      },
      "execution_count": null,
      "outputs": [
        {
          "output_type": "stream",
          "name": "stdout",
          "text": [
            "Enter a number: 84\n",
            "84 is not in between 85 and 95\n",
            "Over\n"
          ]
        }
      ]
    },
    {
      "cell_type": "code",
      "source": [
        "a = int(input())\n",
        "\n",
        "if a%2 == 0:\n",
        "  print(\"%d is an even number.\" % a)\n",
        "else:\n",
        "  print(\"%d is not an even number.\" % a)"
      ],
      "metadata": {
        "colab": {
          "base_uri": "https://localhost:8080/"
        },
        "id": "msb-HTLDIMc9",
        "outputId": "67c1f73e-e83f-4051-f9ed-9ee584061e8a"
      },
      "execution_count": null,
      "outputs": [
        {
          "output_type": "stream",
          "name": "stdout",
          "text": [
            "100\n",
            "100 is an even number.\n"
          ]
        }
      ]
    },
    {
      "cell_type": "code",
      "source": [
        "a = int(input())\n",
        "\n",
        "if (a%3 == 0) and (a%5 == 0):\n",
        "  print(\"%d is a multiple of 3 and 5.\" % a)\n",
        "elif a%3 == 0:\n",
        "  print(\"%d is a multiple of 3.\" % a)\n",
        "elif a%5 == 0:\n",
        "  print(\"%d is a multiple of 5.\" % a)\n",
        "else:\n",
        "  print(\"%d is not a multiple of 3 or 5.\" % a)"
      ],
      "metadata": {
        "colab": {
          "base_uri": "https://localhost:8080/"
        },
        "id": "sUGqGmRqIgx0",
        "outputId": "09d53b31-0fdf-431c-d635-2d3a64a982c9"
      },
      "execution_count": null,
      "outputs": [
        {
          "output_type": "stream",
          "name": "stdout",
          "text": [
            "15\n",
            "15 is a multiple of 3 and 5.\n"
          ]
        }
      ]
    },
    {
      "cell_type": "code",
      "source": [
        "year = int(input())\n",
        "\n",
        "if year%400==0 or (year%4==0 and year%100!=0):\n",
        "  print(year, \"is a leap year.\")\n",
        "else:\n",
        "  print(year, \"is not a leap year.\")"
      ],
      "metadata": {
        "colab": {
          "base_uri": "https://localhost:8080/"
        },
        "id": "jA0WqNnUI3hF",
        "outputId": "69dc4fda-f337-4243-a61e-f4c50a09860e"
      },
      "execution_count": null,
      "outputs": [
        {
          "output_type": "stream",
          "name": "stdout",
          "text": [
            "2025\n",
            "2025 is not a leap year.\n"
          ]
        }
      ]
    },
    {
      "cell_type": "code",
      "source": [
        "a = eval(input())\n",
        "b = eval(input())\n",
        "opr = input()\n",
        "ans = 0\n",
        "\n",
        "if opr == '+': ans = a + b\n",
        "elif opr == '-': ans = a - b\n",
        "elif opr == '*': ans = a * b\n",
        "elif opr == '/': ans = a / b\n",
        "elif opr == '//': ans = a // b\n",
        "elif opr == '%': ans = a % b\n",
        "\n",
        "print(ans)"
      ],
      "metadata": {
        "colab": {
          "base_uri": "https://localhost:8080/"
        },
        "id": "DBdB41MhJIo-",
        "outputId": "34b00564-0568-463e-f98e-d5470aa17427"
      },
      "execution_count": null,
      "outputs": [
        {
          "output_type": "stream",
          "name": "stdout",
          "text": [
            "122\n",
            "250\n",
            "+\n",
            "372\n"
          ]
        }
      ]
    },
    {
      "cell_type": "code",
      "source": [
        "c = input()\n",
        "\n",
        "if('a' <= c <= 'z') or ('A' <= c <= 'Z'):\n",
        "  print(c, \"is an alphabet.\")\n",
        "elif('0' <= c <= '9'):\n",
        "  print(c, \"is a number.\")\n",
        "else:\n",
        "  print(c, \"is a symbol.\")"
      ],
      "metadata": {
        "colab": {
          "base_uri": "https://localhost:8080/"
        },
        "id": "wq_nl1vIJc6e",
        "outputId": "ebf430cd-c176-468b-d4a2-1f0f57be3094"
      },
      "execution_count": null,
      "outputs": [
        {
          "output_type": "stream",
          "name": "stdout",
          "text": [
            "*\n",
            "* is a symbol.\n"
          ]
        }
      ]
    },
    {
      "cell_type": "code",
      "source": [
        "score = eval(input())\n",
        "\n",
        "if 80 <= score <= 100:\n",
        "  grade = 'A'\n",
        "elif 70 <= score <= 79:\n",
        "  grade = 'B'\n",
        "elif 60 <= score <= 69:\n",
        "  grade = 'C'\n",
        "elif score <= 59:\n",
        "  grade = 'F'\n",
        "\n",
        "print(grade)"
      ],
      "metadata": {
        "colab": {
          "base_uri": "https://localhost:8080/"
        },
        "id": "QV8pMZBJKGuX",
        "outputId": "e307e40f-8317-4a4c-9030-2ee886df1eb0"
      },
      "execution_count": null,
      "outputs": [
        {
          "output_type": "stream",
          "name": "stdout",
          "text": [
            "89\n",
            "A\n"
          ]
        }
      ]
    },
    {
      "cell_type": "code",
      "source": [
        "cost = eval(input())\n",
        "\n",
        "if cost >= 38000:\n",
        "  pay = cost * 0.7\n",
        "elif cost >= 28000:\n",
        "  pay = cost * 0.8\n",
        "elif cost >= 18000:\n",
        "  pay = cost * 0.9\n",
        "elif cost >= 8000:\n",
        "  pay = cost * 0.95\n",
        "\n",
        "print(pay)"
      ],
      "metadata": {
        "colab": {
          "base_uri": "https://localhost:8080/"
        },
        "id": "lBg4cPXgKtxY",
        "outputId": "8c6ac1a8-1d94-44f7-b221-eaf54af574f0"
      },
      "execution_count": null,
      "outputs": [
        {
          "output_type": "stream",
          "name": "stdout",
          "text": [
            "19000\n",
            "17100.0\n"
          ]
        }
      ]
    },
    {
      "cell_type": "code",
      "source": [
        "num = eval(input())\n",
        "\n",
        "if 0 <= num <= 9: hex_num = num\n",
        "elif num == 10: hex_num = 'A'\n",
        "elif num == 11: hex_num = 'B'\n",
        "elif num == 12: hex_num = 'C'\n",
        "elif num == 13: hex_num = 'D'\n",
        "elif num == 14: hex_num = 'E'\n",
        "elif num == 15: hex_num = 'F'\n",
        "\n",
        "print(hex_num)\n"
      ],
      "metadata": {
        "colab": {
          "base_uri": "https://localhost:8080/"
        },
        "id": "ffe7qmZ8LCfp",
        "outputId": "a52a54fd-3bdd-4493-99d6-2e82291e4567"
      },
      "execution_count": null,
      "outputs": [
        {
          "output_type": "stream",
          "name": "stdout",
          "text": [
            "11\n",
            "B\n"
          ]
        }
      ]
    },
    {
      "cell_type": "code",
      "source": [
        "x = eval(input())\n",
        "y = eval(input())\n",
        "dist = ((x-5)**2 + (y-6)**2) ** 0.5\n",
        "\n",
        "if dist <= 15:\n",
        "  print(\"Inside\")\n",
        "else:\n",
        "  print(\"Outside\")"
      ],
      "metadata": {
        "colab": {
          "base_uri": "https://localhost:8080/"
        },
        "id": "hR7PflAALXaZ",
        "outputId": "b729bec7-1320-4a94-ae3e-d397bb9cd59a"
      },
      "execution_count": null,
      "outputs": [
        {
          "output_type": "stream",
          "name": "stdout",
          "text": [
            "12\n",
            "14\n",
            "Inside\n"
          ]
        }
      ]
    },
    {
      "cell_type": "code",
      "source": [
        "side1 = eval(input())\n",
        "side2 = eval(input())\n",
        "side3 = eval(input())\n",
        "\n",
        "if side1+side2> side3 \\\n",
        "  and side2+side3 > side1 \\\n",
        "  and side1+side3 > side2:\n",
        "    print(side1+side2+side3)\n",
        "else:\n",
        "  print(\"Invalid\")"
      ],
      "metadata": {
        "colab": {
          "base_uri": "https://localhost:8080/"
        },
        "id": "ttNm7keSLtHh",
        "outputId": "3ba382ef-1f0b-4797-f88f-1986bf6629c7"
      },
      "execution_count": null,
      "outputs": [
        {
          "output_type": "stream",
          "name": "stdout",
          "text": [
            "124\n",
            "11\n",
            "3789\n",
            "Invalid\n"
          ]
        }
      ]
    },
    {
      "cell_type": "code",
      "source": [
        "x1, y1 = eval(input())\n",
        "if abs(x1) <= 8/2 and abs(y1) <= 6/2:\n",
        "  print('(%d, %d) is inside of the rectangle'%(x1, y1))\n",
        "else:\n",
        "  print('(%d, %d) is outside of the rectangle'%(x1, y1))"
      ],
      "metadata": {
        "colab": {
          "base_uri": "https://localhost:8080/"
        },
        "id": "JFjzmh7SMEbi",
        "outputId": "43c42405-6f72-41da-c06d-62d51035bce0"
      },
      "execution_count": null,
      "outputs": [
        {
          "output_type": "stream",
          "name": "stdout",
          "text": [
            "15, 25\n",
            "(15, 25) is outside of the rectangle\n"
          ]
        }
      ]
    },
    {
      "cell_type": "code",
      "source": [
        "import random\n",
        "num = random.randint(1, 100)\n",
        "if num % 2 == 0:\n",
        "  print('%d is even number.'%(num))\n",
        "else:\n",
        "  print('%d is odd number.'%(num))"
      ],
      "metadata": {
        "colab": {
          "base_uri": "https://localhost:8080/"
        },
        "id": "x1Z4TuGZMatS",
        "outputId": "55db3e4a-bdd8-4e0a-bab7-76fdfe76457b"
      },
      "execution_count": null,
      "outputs": [
        {
          "output_type": "stream",
          "name": "stdout",
          "text": [
            "92 is even number.\n"
          ]
        }
      ]
    },
    {
      "cell_type": "code",
      "source": [
        "a, b, c = eval(input('Enter a, b, c: '))\n",
        "d, e, f = eval(input('Enter d, e, f: '))\n",
        "\n",
        "if a*e - b*d == 0:\n",
        "  if c*e - b*f == 0 and a*f - c*d == 0:\n",
        "    print('有無限多組解')\n",
        "  else:\n",
        "    print('無解')\n",
        "else:\n",
        "  x = (c*e - b*f) / (a*e - b*d)\n",
        "  y = (a*f - c*d) / (a*e - b*d)\n",
        "  print('x is %.2f, y = %.2f'%(x, y))"
      ],
      "metadata": {
        "colab": {
          "base_uri": "https://localhost:8080/"
        },
        "id": "ZUKYc7rfMrDr",
        "outputId": "6c43e9b9-e735-4158-811d-1153d4757659"
      },
      "execution_count": null,
      "outputs": [
        {
          "output_type": "stream",
          "name": "stdout",
          "text": [
            "Enter a, b, c: 1, 2, 3\n",
            "Enter d, e, f: 4, 5, 6\n",
            "x is -1.00, y = 2.00\n"
          ]
        }
      ]
    },
    {
      "cell_type": "code",
      "source": [
        "number = eval(input(\"Enter a three-digit integer: \"))\n",
        "reversedNumber = (number % 10) * 100 + (number // 10 \\\n",
        "                        % 10) * 10 + (number // 100)\n",
        "\n",
        "if number == reversedNumber:\n",
        "  print(number, \"is a palindrome number.\")\n",
        "else:\n",
        "  print(number, \"is not a palindrome number.\")"
      ],
      "metadata": {
        "colab": {
          "base_uri": "https://localhost:8080/"
        },
        "id": "yZYCMwBLNdEc",
        "outputId": "f9a27f7f-497c-4f8a-8fd2-643bd5ca2b5c"
      },
      "execution_count": null,
      "outputs": [
        {
          "output_type": "stream",
          "name": "stdout",
          "text": [
            "Enter a three-digit integer: 5555\n",
            "5555 is not a palindrome number.\n"
          ]
        }
      ]
    },
    {
      "cell_type": "code",
      "source": [
        "num1, num2, num3 = eval(input(\"Enter three integers: \"))\n",
        "if num1 > num2:\n",
        "    num1, num2 = num2, num1\n",
        "\n",
        "if num2 > num3:\n",
        "    num2, num3 = num3, num2\n",
        "if num1 > num2:\n",
        "    num1, num2 = num2, num1\n",
        "\n",
        "print(\"The sorted numbers are\", num1, num2, num3)"
      ],
      "metadata": {
        "colab": {
          "base_uri": "https://localhost:8080/"
        },
        "id": "Q2YDx-7LN6q2",
        "outputId": "812a16bd-87a9-491e-803f-b3aebcc13032"
      },
      "execution_count": null,
      "outputs": [
        {
          "output_type": "stream",
          "name": "stdout",
          "text": [
            "Enter three integers: 44, 55, 66\n",
            "The sorted numbers are 44 55 66\n"
          ]
        }
      ]
    }
  ]
}