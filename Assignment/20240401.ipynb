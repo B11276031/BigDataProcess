{
  "nbformat": 4,
  "nbformat_minor": 0,
  "metadata": {
    "colab": {
      "provenance": []
    },
    "kernelspec": {
      "name": "python3",
      "display_name": "Python 3"
    },
    "language_info": {
      "name": "python"
    }
  },
  "cells": [
    {
      "cell_type": "code",
      "execution_count": null,
      "metadata": {
        "colab": {
          "base_uri": "https://localhost:8080/"
        },
        "id": "a8vlzgN0kq7V",
        "outputId": "3fc581ce-ee7e-4cf4-8a19-bef1601b959b"
      },
      "outputs": [
        {
          "output_type": "stream",
          "name": "stdout",
          "text": [
            "34 12 72 26 46 43 86 3 10 40 \\even = 8, odd = 2\n"
          ]
        }
      ],
      "source": [
        "import random\n",
        "even = 0\n",
        "odd = 0\n",
        "for i in range(1, 11):\n",
        "  randNum = random.randint(1, 100)\n",
        "  print(randNum, end = ' ')\n",
        "  if randNum % 2 == 0:\n",
        "    even += 1\n",
        "  else:\n",
        "    odd += 1\n",
        "print('\\even = %d, odd = %d'%(even, odd))"
      ]
    },
    {
      "cell_type": "code",
      "source": [
        "import random\n",
        "for i in range(1, 11):\n",
        "  randNum = random.randint(1, 100)\n",
        "  print('%4d'%(randNum), end = ' ')"
      ],
      "metadata": {
        "colab": {
          "base_uri": "https://localhost:8080/"
        },
        "id": "_KtHhascmeNv",
        "outputId": "92aa68c8-e9ee-4ea4-8b59-4e940f335f02"
      },
      "execution_count": null,
      "outputs": [
        {
          "output_type": "stream",
          "name": "stdout",
          "text": [
            "  51   39   89   29   41   39   61   28   54   80 "
          ]
        }
      ]
    }
  ]
}