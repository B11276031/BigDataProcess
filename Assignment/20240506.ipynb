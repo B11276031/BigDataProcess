{
  "nbformat": 4,
  "nbformat_minor": 0,
  "metadata": {
    "colab": {
      "provenance": []
    },
    "kernelspec": {
      "name": "python3",
      "display_name": "Python 3"
    },
    "language_info": {
      "name": "python"
    }
  },
  "cells": [
    {
      "cell_type": "code",
      "execution_count": 2,
      "metadata": {
        "colab": {
          "base_uri": "https://localhost:8080/"
        },
        "id": "8qpkcvt848ZE",
        "outputId": "316e8dba-24ce-4931-ba3e-a233169106a3"
      },
      "outputs": [
        {
          "output_type": "stream",
          "name": "stdout",
          "text": [
            "43 27 47 35 7 38 \n",
            "cotinue:1 or quit:0 ---->1\n",
            "8 32 24 15 39 42 \n",
            "cotinue:1 or quit:0 ---->1\n",
            "8 5 5 12 38 16 \n",
            "cotinue:1 or quit:0 ---->1\n",
            "44 6 6 26 31 16 \n",
            "cotinue:1 or quit:0 ---->1\n",
            "12 2 41 19 36 16 \n",
            "cotinue:1 or quit:0 ---->0\n",
            "Over\n"
          ]
        }
      ],
      "source": [
        "import random\n",
        "while True:\n",
        "  for i in range(1, 7):\n",
        "    randNum = random.randint(1, 49)\n",
        "    print(randNum, end = ' ')\n",
        "  print()\n",
        "  again = eval(input('cotinue:1 or quit:0 ---->'))\n",
        "  if again == 0:\n",
        "    break\n",
        "print('Over')"
      ]
    },
    {
      "cell_type": "code",
      "source": [
        "import random\n",
        "n1 = random.randint(1, 100)\n",
        "n2 = random.randint(1, 100)\n",
        "while True:\n",
        "  solution = n1 + n2\n",
        "  answer = eval(input('%d + %d = '%(n1, n2)))\n",
        "  if answer == solution:\n",
        "    print('Correct, you are very good.')\n",
        "    break\n",
        "  else:\n",
        "    print('Wrong answer, try again.')\n",
        "print('Over')"
      ],
      "metadata": {
        "colab": {
          "base_uri": "https://localhost:8080/"
        },
        "id": "LTu0qfnn5Ldm",
        "outputId": "91e2bedd-65bb-4cc2-ec63-019513dcfb86"
      },
      "execution_count": 13,
      "outputs": [
        {
          "output_type": "stream",
          "name": "stdout",
          "text": [
            "48 + 42 = 1\n",
            "Wrong answer, try again.\n",
            "48 + 42 = 90\n",
            "Correct, you are very good.\n",
            "Over\n"
          ]
        }
      ]
    },
    {
      "cell_type": "code",
      "source": [
        "total = 0\n",
        "number = 1\n",
        "while number <= 15:\n",
        "  if number % 5 == 0:\n",
        "    number += 1\n",
        "    continue\n",
        "  print('%3d'%(number), end = ' ')\n",
        "  total += number\n",
        "  number += 1\n",
        "\n",
        "print('\\ntotal = %d'%(total))"
      ],
      "metadata": {
        "colab": {
          "base_uri": "https://localhost:8080/"
        },
        "id": "awvwZ2ix51No",
        "outputId": "5a197a5a-a3c0-4d0f-b902-ad14081517c3"
      },
      "execution_count": 14,
      "outputs": [
        {
          "output_type": "stream",
          "name": "stdout",
          "text": [
            "  1   2   3   4   6   7   8   9  11  12  13  14 \n",
            "total = 90\n"
          ]
        }
      ]
    }
  ]
}