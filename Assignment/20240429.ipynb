{
  "nbformat": 4,
  "nbformat_minor": 0,
  "metadata": {
    "colab": {
      "provenance": []
    },
    "kernelspec": {
      "name": "python3",
      "display_name": "Python 3"
    },
    "language_info": {
      "name": "python"
    }
  },
  "cells": [
    {
      "cell_type": "code",
      "execution_count": null,
      "metadata": {
        "colab": {
          "base_uri": "https://localhost:8080/"
        },
        "id": "ygI05rkF0vCJ",
        "outputId": "572129b0-ffbe-4382-d1cd-43a7103e001d"
      },
      "outputs": [
        {
          "output_type": "stream",
          "name": "stdout",
          "text": [
            "  74   14    2   29   64   55    7   20   40   65 "
          ]
        }
      ],
      "source": [
        "import random\n",
        "for i in range(1, 11):\n",
        "  randNum = random.randint(1, 100)\n",
        "  print('%4d'%(randNum), end = ' ')"
      ]
    },
    {
      "cell_type": "code",
      "source": [
        "import random\n",
        "even = 0\n",
        "odd = 0\n",
        "for i in range(1, 11):\n",
        "  randNum = random.randint(1, 100)\n",
        "  print(randNum, end = ' ')\n",
        "  if randNum % 2 == 0:\n",
        "    even += 1\n",
        "  else:\n",
        "    odd += 1\n",
        "print('\\even = %d, odd = %d'%(even, odd))"
      ],
      "metadata": {
        "colab": {
          "base_uri": "https://localhost:8080/"
        },
        "id": "1depter909qY",
        "outputId": "685eb6cc-1617-41f9-f2e4-b7ab1d1b85f9"
      },
      "execution_count": null,
      "outputs": [
        {
          "output_type": "stream",
          "name": "stdout",
          "text": [
            "62 31 87 57 11 100 35 44 7 81 \\even = 3, odd = 7\n"
          ]
        }
      ]
    },
    {
      "cell_type": "code",
      "source": [
        "#Version 1\n",
        "import random\n",
        "times3 = 0\n",
        "times5 = 0\n",
        "times7 = 0\n",
        "others = 0\n",
        "for i in range(1, 101):\n",
        "  flag = False\n",
        "  randNum = random.randint(1, 100)\n",
        "  print(randNum, end = ' ')\n",
        "  if randNum % 3 == 0:\n",
        "    times3 += 1\n",
        "    flag = True\n",
        "  if randNum % 5 == 0:\n",
        "    times5 += 1\n",
        "    flag = True\n",
        "  if randNum % 7 == 0:\n",
        "    times7 += 1\n",
        "    flag = True\n",
        "  if flag == False:\n",
        "    others += 1\n",
        "print('\\ntimes3 = %d, times5 = %d, times7 = %d'%(times3, times5, times7))\n",
        "print('others = %d'%(others))"
      ],
      "metadata": {
        "colab": {
          "base_uri": "https://localhost:8080/"
        },
        "id": "xaeixWLo7B88",
        "outputId": "c82e9fe0-535a-49c8-9690-43fbdfb541b6"
      },
      "execution_count": 3,
      "outputs": [
        {
          "output_type": "stream",
          "name": "stdout",
          "text": [
            "18 64 10 51 48 46 77 99 26 60 11 10 73 65 79 3 74 2 10 2 62 35 77 51 5 100 75 13 85 32 15 8 15 84 10 42 11 71 5 20 51 57 26 28 52 87 51 51 4 79 96 36 79 51 10 46 57 30 19 24 95 71 11 52 71 2 64 52 64 24 18 73 42 43 49 88 7 88 30 93 37 87 16 51 96 38 10 83 43 52 32 76 66 89 53 85 23 100 7 96 \n",
            "times3 = 33, times5 = 22, times7 = 10\n",
            "others = 45\n"
          ]
        }
      ]
    }
  ]
}