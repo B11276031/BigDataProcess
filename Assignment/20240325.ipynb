{
  "nbformat": 4,
  "nbformat_minor": 0,
  "metadata": {
    "colab": {
      "provenance": []
    },
    "kernelspec": {
      "name": "python3",
      "display_name": "Python 3"
    },
    "language_info": {
      "name": "python"
    }
  },
  "cells": [
    {
      "cell_type": "code",
      "execution_count": null,
      "metadata": {
        "colab": {
          "base_uri": "https://localhost:8080/"
        },
        "id": "rcqbeVa5ecff",
        "outputId": "72c7c845-2b3e-41a9-be3c-aa13fdcdc1e5"
      },
      "outputs": [
        {
          "output_type": "stream",
          "name": "stdout",
          "text": [
            "total =  100\n"
          ]
        }
      ],
      "source": [
        "i = 1\n",
        "total = 0\n",
        "while i <= 100:\n",
        "  total += 1\n",
        "  i += 1\n",
        "print('total = ', total)"
      ]
    },
    {
      "cell_type": "code",
      "source": [
        "total = 0\n",
        "for i in range(2, 101):\n",
        "  total += 1\n",
        "print('total =', total)"
      ],
      "metadata": {
        "colab": {
          "base_uri": "https://localhost:8080/"
        },
        "id": "ANDZaI1-oVJW",
        "outputId": "b751b763-cdc4-4ebb-9aad-5b8debc2b429"
      },
      "execution_count": null,
      "outputs": [
        {
          "output_type": "stream",
          "name": "stdout",
          "text": [
            "total = 99\n"
          ]
        }
      ]
    },
    {
      "cell_type": "code",
      "source": [
        "total = 0\n",
        "for i in range(1, 100):\n",
        "  total += i\n",
        "  i += 1\n",
        "print('total = ', total)"
      ],
      "metadata": {
        "colab": {
          "base_uri": "https://localhost:8080/"
        },
        "id": "xEgf19ouoa1W",
        "outputId": "0707622c-784e-42de-a979-a874173f5916"
      },
      "execution_count": null,
      "outputs": [
        {
          "output_type": "stream",
          "name": "stdout",
          "text": [
            "total =  4950\n"
          ]
        }
      ]
    },
    {
      "cell_type": "code",
      "source": [
        "total = 0\n",
        "for i in range(1, 100):\n",
        "  total += i\n",
        "print('total = ', total)"
      ],
      "metadata": {
        "colab": {
          "base_uri": "https://localhost:8080/"
        },
        "id": "_AEnH5aEouNW",
        "outputId": "66ee9412-3c94-47a0-e10c-29a322eced84"
      },
      "execution_count": null,
      "outputs": [
        {
          "output_type": "stream",
          "name": "stdout",
          "text": [
            "total =  4950\n"
          ]
        }
      ]
    },
    {
      "cell_type": "code",
      "source": [],
      "metadata": {
        "id": "tYNSweTcIZWZ"
      },
      "execution_count": null,
      "outputs": []
    }
  ]
}